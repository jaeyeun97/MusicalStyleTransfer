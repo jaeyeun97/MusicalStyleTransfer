{
 "cells": [
  {
   "cell_type": "code",
   "execution_count": 27,
   "metadata": {},
   "outputs": [
    {
     "name": "stdout",
     "output_type": "stream",
     "text": [
      "0.001401690578795908\n"
     ]
    }
   ],
   "source": [
    "import numpy as np\n",
    "import pandas\n",
    "from scipy.stats import binom\n",
    "\n",
    "timbral = pandas.read_csv('../chillify_timbral_classifier_ndf64_cqt_sigmoid.test.txt')\n",
    "shallow = pandas.read_csv('../chillify_shallow_classifier_ndf32_cqt.test.txt')\n",
    "\n",
    "def sign_test():\n",
    "    null = minus = plus = 0\n",
    "    for section in ['A', 'B']:\n",
    "        test = (timbral[section] == shallow[section])\n",
    "        null += test.value_counts()[True]\n",
    "        minus += timbral[section][test == False].sum()\n",
    "        plus += shallow[section][test == False].sum()\n",
    "    N = 2 * np.ceil(null/2) + plus + minus\n",
    "    k = np.ceil(null/2) + np.minimum(plus, minus)\n",
    "    q = 0.5\n",
    "    return 2 * binom.cdf(k, N, q)\n",
    "\n",
    "print(sign_test())"
   ]
  }
 ],
 "metadata": {
  "kernelspec": {
   "display_name": "Python [conda env:diss]",
   "language": "python",
   "name": "conda-env-diss-py"
  },
  "language_info": {
   "codemirror_mode": {
    "name": "ipython",
    "version": 3
   },
   "file_extension": ".py",
   "mimetype": "text/x-python",
   "name": "python",
   "nbconvert_exporter": "python",
   "pygments_lexer": "ipython3",
   "version": "3.7.3"
  }
 },
 "nbformat": 4,
 "nbformat_minor": 2
}
